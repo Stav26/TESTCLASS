{
 "cells": [
  {
   "cell_type": "code",
   "execution_count": 7,
   "metadata": {},
   "outputs": [
    {
     "data": {
      "text/plain": [
       "''"
      ]
     },
     "execution_count": 7,
     "metadata": {},
     "output_type": "execute_result"
    }
   ],
   "source": [
    "from tkinter import *\n",
    "from tkinter import messagebox\n",
    "\n",
    "root = Tk()\n",
    "root.title('Сложение на Python')\n",
    "root.geometry('400x300')\n"
   ]
  },
  {
   "cell_type": "code",
   "execution_count": 8,
   "metadata": {},
   "outputs": [],
   "source": [
    "a = StringVar()\n",
    "b = StringVar()"
   ]
  },
  {
   "cell_type": "code",
   "execution_count": 9,
   "metadata": {},
   "outputs": [],
   "source": [
    "class calculator:\n",
    "    def calc(self,a, b):\n",
    "        if '.' in a.get()  or '.' in b.get():\n",
    "            c=float(a.get()) + float(b.get())\n",
    "            return c\n",
    "        else:\n",
    "            c=int(a.get()) + int(b.get())\n",
    "            return c\n",
    "cl = calculator()"
   ]
  },
  {
   "cell_type": "code",
   "execution_count": 10,
   "metadata": {},
   "outputs": [],
   "source": [
    "class display:\n",
    "    def display_calc(self):\n",
    "        messagebox.showinfo(\"GUI Python\", cl.calc(a,b))\n",
    "pl= display()"
   ]
  },
  {
   "cell_type": "code",
   "execution_count": 11,
   "metadata": {},
   "outputs": [],
   "source": [
    "class interface:\n",
    "    def label_func(self):\n",
    "        alabel = Label(text=\"Введите цифру:\")\n",
    "        blabel = Label(text=\"Введите цифру:\")\n",
    "\n",
    "        alabel.grid(row=0, column=0, sticky=\"w\")\n",
    "        blabel.grid(row=1, column=0, sticky=\"w\")\n",
    "\n",
    "    def entry_func(self):\n",
    "        aentry = Entry(textvariable=a)\n",
    "        bentry = Entry(textvariable=b)\n",
    "\n",
    "        aentry.grid(row=0, column=1, padx=5, pady=5)\n",
    "        bentry.grid(row=1, column=1, padx=5, pady=5)\n",
    "\n",
    "    def button_func(self):\n",
    "        calc_button = Button(text=\"Нажми\", command=pl.display_calc)\n",
    "        calc_button.grid(row=2, column=1, padx=5, pady=5, sticky=\"e\")    \n",
    "\n",
    "lb=interface()\n",
    "lb.label_func()\n",
    "lb.entry_func()\n",
    "lb.button_func()"
   ]
  },
  {
   "cell_type": "code",
   "execution_count": 12,
   "metadata": {},
   "outputs": [],
   "source": [
    "root.mainloop()"
   ]
  }
 ],
 "metadata": {
  "interpreter": {
   "hash": "d15a468cc592a92e8d6cd092acb7f8220914f73479069f7757e178f0062661e5"
  },
  "kernelspec": {
   "display_name": "Python 3.9.12 64-bit",
   "language": "python",
   "name": "python3"
  },
  "language_info": {
   "codemirror_mode": {
    "name": "ipython",
    "version": 3
   },
   "file_extension": ".py",
   "mimetype": "text/x-python",
   "name": "python",
   "nbconvert_exporter": "python",
   "pygments_lexer": "ipython3",
   "version": "3.9.12"
  },
  "orig_nbformat": 4
 },
 "nbformat": 4,
 "nbformat_minor": 2
}
