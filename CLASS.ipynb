{
 "cells": [
  {
   "cell_type": "code",
   "execution_count": 26,
   "metadata": {},
   "outputs": [
    {
     "data": {
      "text/plain": [
       "''"
      ]
     },
     "execution_count": 26,
     "metadata": {},
     "output_type": "execute_result"
    }
   ],
   "source": [
    "from tkinter import *\n",
    "from tkinter import messagebox\n",
    "\n",
    "root = Tk()\n",
    "root.title('Сложение на Python')\n",
    "root.geometry('400x300')\n"
   ]
  },
  {
   "cell_type": "code",
   "execution_count": 27,
   "metadata": {},
   "outputs": [],
   "source": [
    "a = StringVar()\n",
    "b = StringVar()"
   ]
  },
  {
   "cell_type": "code",
   "execution_count": 34,
   "metadata": {},
   "outputs": [],
   "source": [
    "class calculator:\n",
    "    def calc(self,a, b):\n",
    "        if '.' in a.get()  or '.' in b.get():\n",
    "            c=float(a.get()) + float(b.get())\n",
    "            return c\n",
    "        else:\n",
    "            c=int(a.get()) + int(b.get())\n",
    "            return c\n",
    "cl = calculator()"
   ]
  },
  {
   "cell_type": "code",
   "execution_count": 35,
   "metadata": {},
   "outputs": [],
   "source": [
    "class display:\n",
    "    def display_calc(self):\n",
    "        messagebox.showinfo(\"GUI Python\", cl.calc(a,b))\n",
    "pl= display()"
   ]
  },
  {
   "cell_type": "code",
   "execution_count": 30,
   "metadata": {},
   "outputs": [],
   "source": [
    "a_label = Label(text=\"Введите цифру:\")\n",
    "b_label = Label(text=\"Введите цифру:\")\n",
    "\n",
    "a_label.grid(row=0, column=0, sticky=\"w\")\n",
    "b_label.grid(row=1, column=0, sticky=\"w\")"
   ]
  },
  {
   "cell_type": "code",
   "execution_count": 31,
   "metadata": {},
   "outputs": [],
   "source": [
    "a_entry = Entry(textvariable=a)\n",
    "b_entry = Entry(textvariable=b)\n",
    "\n",
    "a_entry.grid(row=0,column=1, padx=5, pady=5)\n",
    "b_entry.grid(row=1,column=1, padx=5, pady=5)"
   ]
  },
  {
   "cell_type": "code",
   "execution_count": 36,
   "metadata": {},
   "outputs": [],
   "source": [
    "calc_button = Button(text=\"Нажми\", command=pl.display_calc)\n",
    "calc_button.grid(row=2,column=1, padx=5, pady=5, sticky=\"e\")"
   ]
  },
  {
   "cell_type": "code",
   "execution_count": 33,
   "metadata": {},
   "outputs": [],
   "source": [
    "root.mainloop()"
   ]
  }
 ],
 "metadata": {
  "interpreter": {
   "hash": "d15a468cc592a92e8d6cd092acb7f8220914f73479069f7757e178f0062661e5"
  },
  "kernelspec": {
   "display_name": "Python 3.9.12 64-bit",
   "language": "python",
   "name": "python3"
  },
  "language_info": {
   "codemirror_mode": {
    "name": "ipython",
    "version": 3
   },
   "file_extension": ".py",
   "mimetype": "text/x-python",
   "name": "python",
   "nbconvert_exporter": "python",
   "pygments_lexer": "ipython3",
   "version": "3.9.12"
  },
  "orig_nbformat": 4
 },
 "nbformat": 4,
 "nbformat_minor": 2
}
